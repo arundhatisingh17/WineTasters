{
 "cells": [
  {
   "cell_type": "code",
   "execution_count": 52,
   "metadata": {},
   "outputs": [
    {
     "data": {
      "text/plain": [
       "291    I will never order again! \"Two buck Chuck\" has better taste!\n",
       "Name: reviews.text, dtype: object"
      ]
     },
     "execution_count": 52,
     "metadata": {},
     "output_type": "execute_result"
    }
   ],
   "source": [
    "import pandas as pd\n",
    "import re\n",
    "\n",
    "pd.set_option('display.max_columns', None)\n",
    "pd.set_option('display.expand_frame_repr', False)\n",
    "pd.set_option('max_colwidth', None)\n",
    "\n",
    "df = pd.read_csv('data/447_1.csv')\n",
    "df.drop(columns=['dateAdded','descriptions','dateUpdated'])\n",
    "# Assuming 'column_name' is the name of the column and 'value' is the value you're looking for\n",
    "item = df.loc[df['brand'] == \"Vintage Wine Estates\"]\n",
    "item.head(1)['id']\n",
    "item['reviews.text'].head(1)\n"
   ]
  }
 ],
 "metadata": {
  "kernelspec": {
   "display_name": "Python 3",
   "language": "python",
   "name": "python3"
  },
  "language_info": {
   "codemirror_mode": {
    "name": "ipython",
    "version": 3
   },
   "file_extension": ".py",
   "mimetype": "text/x-python",
   "name": "python",
   "nbconvert_exporter": "python",
   "pygments_lexer": "ipython3",
   "version": "3.11.4"
  }
 },
 "nbformat": 4,
 "nbformat_minor": 2
}
